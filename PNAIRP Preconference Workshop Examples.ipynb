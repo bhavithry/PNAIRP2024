{
 "cells": [
  {
   "cell_type": "code",
   "execution_count": 1,
   "id": "cfe52308",
   "metadata": {},
   "outputs": [
    {
     "name": "stdout",
     "output_type": "stream",
     "text": [
      "hello World\n"
     ]
    }
   ],
   "source": [
    "print (\"hello World\")"
   ]
  },
  {
   "cell_type": "code",
   "execution_count": 6,
   "id": "bb33a96f",
   "metadata": {},
   "outputs": [
    {
     "name": "stdout",
     "output_type": "stream",
     "text": [
      "(25, 30, 35, 40, 45)\n"
     ]
    }
   ],
   "source": [
    "student_ages = (25, 30, 35, 40, 45)\n",
    "print(student_ages)"
   ]
  },
  {
   "cell_type": "code",
   "execution_count": 5,
   "id": "295d8204",
   "metadata": {},
   "outputs": [
    {
     "name": "stdout",
     "output_type": "stream",
     "text": [
      "['Alice', 'Bob', 'Charlie', 'David', 'Eva']\n"
     ]
    }
   ],
   "source": [
    "student_names = ['Alice', 'Bob', 'Charlie', 'David', 'Eva']\n",
    "print(student_names)"
   ]
  },
  {
   "cell_type": "code",
   "execution_count": 4,
   "id": "f10b9208",
   "metadata": {},
   "outputs": [
    {
     "name": "stdout",
     "output_type": "stream",
     "text": [
      "{'Alice': 85.5, 'Bob': 90.0, 'Charlie': None, 'David': 88.0, 'Eva': 92.5}\n"
     ]
    }
   ],
   "source": [
    "students_scores = {'Alice': 85.5, 'Bob': 90.0, 'Charlie': None, 'David': 88.0, 'Eva': 92.5}\n",
    "print(students_scores)"
   ]
  },
  {
   "cell_type": "code",
   "execution_count": 7,
   "id": "5bc5169c",
   "metadata": {},
   "outputs": [
    {
     "name": "stdout",
     "output_type": "stream",
     "text": [
      "{'Alice': 25, 'Bob': 30, 'Charlie': 35, 'David': 40, 'Eva': 45}\n"
     ]
    }
   ],
   "source": [
    "# List of student names\n",
    "student_names = ['Alice', 'Bob', 'Charlie', 'David', 'Eva']\n",
    "\n",
    "# Tuple of student ages\n",
    "student_ages = (25, 30, 35, 40, 45)\n",
    "\n",
    "# Combine the list and tuple to create a dictionary\n",
    "students_dict = dict(zip(student_names, student_ages))\n",
    "\n",
    "print(students_dict)"
   ]
  },
  {
   "cell_type": "code",
   "execution_count": 15,
   "id": "e91d842f",
   "metadata": {},
   "outputs": [
    {
     "name": "stdout",
     "output_type": "stream",
     "text": [
      "      Name   Age                      University  Score\n",
      "0    Alice  25.0           University of Toronto   85.5\n",
      "1      Bob  30.0  University of British Columbia   90.0\n",
      "2  Charlie  35.0               McGill University    NaN\n",
      "3    David  40.0           University of Alberta   88.0\n",
      "4      Eva   NaN          University of Montreal   92.5\n"
     ]
    }
   ],
   "source": [
    "import pandas as pd\n",
    "df = pd.read_excel('sample_dataset.xlsx')\n",
    "print(df)"
   ]
  },
  {
   "cell_type": "code",
   "execution_count": 18,
   "id": "e4cd7e15",
   "metadata": {},
   "outputs": [
    {
     "name": "stdout",
     "output_type": "stream",
     "text": [
      "0      Alice\n",
      "1        Bob\n",
      "2    Charlie\n",
      "3      David\n",
      "4        Eva\n",
      "Name: Name, dtype: object\n"
     ]
    }
   ],
   "source": [
    "import pandas as pd\n",
    "\n",
    "# Load the dataset\n",
    "df = pd.read_excel('sample_dataset.xlsx')\n",
    "\n",
    "# Select only the 'Name' column\n",
    "print(df['Name'])"
   ]
  },
  {
   "cell_type": "code",
   "execution_count": 11,
   "id": "0bea3111",
   "metadata": {},
   "outputs": [
    {
     "name": "stdout",
     "output_type": "stream",
     "text": [
      "      Name   Age                      University  Score\n",
      "0    Alice  25.0           University of Toronto   85.5\n",
      "1      Bob  30.0  University of British Columbia   90.0\n",
      "2  Charlie  35.0               McGill University   89.0\n",
      "3    David  40.0           University of Alberta   88.0\n",
      "4      Eva   NaN          University of Montreal   92.5\n"
     ]
    }
   ],
   "source": [
    "import pandas as pd\n",
    "\n",
    "df = pd.read_excel('sample_dataset.xlsx')\n",
    "df['Score'].fillna(df['Score'].mean(), inplace=True)\n",
    "print(df)"
   ]
  },
  {
   "cell_type": "code",
   "execution_count": 13,
   "id": "70d0429a",
   "metadata": {},
   "outputs": [
    {
     "name": "stdout",
     "output_type": "stream",
     "text": [
      "  Name  Age              University  Score\n",
      "4  Eva  NaN  University of Montreal   92.5\n"
     ]
    }
   ],
   "source": [
    "high_scorers = df[df['Score'] > 90]\n",
    "print (high_scorers)"
   ]
  },
  {
   "cell_type": "code",
   "execution_count": 19,
   "id": "24e6b44d",
   "metadata": {},
   "outputs": [
    {
     "name": "stdout",
     "output_type": "stream",
     "text": [
      "['ALICE', 'BOB', 'CHARLIE', 'DAVID', 'EVA']\n"
     ]
    }
   ],
   "source": [
    "uppercase_names = [name.upper() for name in student_names]\n",
    "print(uppercase_names)"
   ]
  },
  {
   "cell_type": "code",
   "execution_count": 22,
   "id": "44a0ead5",
   "metadata": {},
   "outputs": [
    {
     "name": "stdout",
     "output_type": "stream",
     "text": [
      "[0, 1, 4, 9, 16, 25, 36, 49, 64, 81]\n"
     ]
    }
   ],
   "source": [
    "# Loop\n",
    "squares = []\n",
    "for x in range(10):\n",
    "    squares.append(x**2)\n",
    "print(squares)"
   ]
  },
  {
   "cell_type": "code",
   "execution_count": 23,
   "id": "3b5fc67a",
   "metadata": {},
   "outputs": [
    {
     "data": {
      "text/plain": [
       "[0, 1, 4, 9, 16, 25, 36, 49, 64, 81]"
      ]
     },
     "execution_count": 23,
     "metadata": {},
     "output_type": "execute_result"
    }
   ],
   "source": [
    "# List comprehension\n",
    "squares_List = [x**2 for x in range(10)]\n",
    "squares_List"
   ]
  },
  {
   "cell_type": "code",
   "execution_count": 27,
   "id": "48ebf88b",
   "metadata": {},
   "outputs": [
    {
     "data": {
      "text/html": [
       "<div>\n",
       "<style scoped>\n",
       "    .dataframe tbody tr th:only-of-type {\n",
       "        vertical-align: middle;\n",
       "    }\n",
       "\n",
       "    .dataframe tbody tr th {\n",
       "        vertical-align: top;\n",
       "    }\n",
       "\n",
       "    .dataframe thead th {\n",
       "        text-align: right;\n",
       "    }\n",
       "</style>\n",
       "<table border=\"1\" class=\"dataframe\">\n",
       "  <thead>\n",
       "    <tr style=\"text-align: right;\">\n",
       "      <th></th>\n",
       "      <th>Score</th>\n",
       "      <th>Adjusted Score</th>\n",
       "    </tr>\n",
       "  </thead>\n",
       "  <tbody>\n",
       "    <tr>\n",
       "      <th>0</th>\n",
       "      <td>85.5</td>\n",
       "      <td>95.5</td>\n",
       "    </tr>\n",
       "    <tr>\n",
       "      <th>1</th>\n",
       "      <td>90.0</td>\n",
       "      <td>100.0</td>\n",
       "    </tr>\n",
       "    <tr>\n",
       "      <th>2</th>\n",
       "      <td>NaN</td>\n",
       "      <td>NaN</td>\n",
       "    </tr>\n",
       "    <tr>\n",
       "      <th>3</th>\n",
       "      <td>88.0</td>\n",
       "      <td>98.0</td>\n",
       "    </tr>\n",
       "    <tr>\n",
       "      <th>4</th>\n",
       "      <td>92.5</td>\n",
       "      <td>102.5</td>\n",
       "    </tr>\n",
       "  </tbody>\n",
       "</table>\n",
       "</div>"
      ],
      "text/plain": [
       "   Score  Adjusted Score\n",
       "0   85.5            95.5\n",
       "1   90.0           100.0\n",
       "2    NaN             NaN\n",
       "3   88.0            98.0\n",
       "4   92.5           102.5"
      ]
     },
     "execution_count": 27,
     "metadata": {},
     "output_type": "execute_result"
    }
   ],
   "source": [
    "df['Adjusted Score'] = df['Score'].apply(lambda x: x + 10)\n",
    "df[['Score','Adjusted Score']]"
   ]
  },
  {
   "cell_type": "code",
   "execution_count": 29,
   "id": "7db40d87",
   "metadata": {},
   "outputs": [
    {
     "data": {
      "text/plain": [
       "89.0"
      ]
     },
     "execution_count": 29,
     "metadata": {},
     "output_type": "execute_result"
    }
   ],
   "source": [
    "def calculate_average(scores):\n",
    "    df['Score'].fillna(df['Score'].mean(), inplace=True)\n",
    "    return sum(scores) / len(scores)\n",
    "\n",
    "average_score = calculate_average(df['Score'])\n",
    "average_score"
   ]
  },
  {
   "cell_type": "code",
   "execution_count": 30,
   "id": "26501f20",
   "metadata": {},
   "outputs": [
    {
     "name": "stdout",
     "output_type": "stream",
     "text": [
      "Name: Alice, Age: 25, City: Toronto, Score: 85.5\n"
     ]
    }
   ],
   "source": [
    "class Student:\n",
    "    def __init__(self, name, age, city, score):\n",
    "        self.name = name\n",
    "        self.age = age\n",
    "        self.city = city\n",
    "        self.score = score\n",
    "\n",
    "    def display_info(self):\n",
    "        print(f\"Name: {self.name}, Age: {self.age}, City: {self.city}, Score: {self.score}\")\n",
    "\n",
    "student1 = Student('Alice', 25, 'Toronto', 85.5)\n",
    "student1.display_info()"
   ]
  },
  {
   "cell_type": "code",
   "execution_count": null,
   "id": "62ad67ac",
   "metadata": {},
   "outputs": [],
   "source": []
  }
 ],
 "metadata": {
  "kernelspec": {
   "display_name": "Python 3 (ipykernel)",
   "language": "python",
   "name": "python3"
  },
  "language_info": {
   "codemirror_mode": {
    "name": "ipython",
    "version": 3
   },
   "file_extension": ".py",
   "mimetype": "text/x-python",
   "name": "python",
   "nbconvert_exporter": "python",
   "pygments_lexer": "ipython3",
   "version": "3.10.9"
  }
 },
 "nbformat": 4,
 "nbformat_minor": 5
}
